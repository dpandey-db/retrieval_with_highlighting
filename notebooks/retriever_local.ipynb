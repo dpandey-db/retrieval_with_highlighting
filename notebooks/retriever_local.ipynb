{
 "cells": [
  {
   "cell_type": "code",
   "execution_count": 5,
   "metadata": {},
   "outputs": [],
   "source": [
    "# load config\n",
    "from pathlib import Path\n",
    "import mlflow\n",
    "from src.config import parse_config\n",
    "import os\n",
    "\n",
    "root_dir = Path(os.getcwd()).parent\n",
    "config_path = root_dir / 'agents' / 'search' / 'config.yaml'\n",
    "\n",
    "mlflow_config = mlflow.models.ModelConfig(development_config=config_path)\n",
    "config = parse_config(mlflow_config)"
   ]
  },
  {
   "cell_type": "markdown",
   "metadata": {},
   "source": [
    "## LangGraph Implementation"
   ]
  },
  {
   "cell_type": "code",
   "execution_count": 6,
   "metadata": {},
   "outputs": [
    {
     "name": "stdout",
     "output_type": "stream",
     "text": [
      "[NOTICE] Using a notebook authentication token. Recommended for development only. For improved performance, please use Service Principal based authentication. To disable this message, pass disable_notice=True to VectorSearchClient().\n"
     ]
    },
    {
     "data": {
      "text/plain": [
       "[Document(metadata={'doc_id': '4109d9a3-5486-4669-8485-b94afe958f65', 'id': '22fc457c-e036-491b-bc5a-17c0e5bcf65e'}, page_content=' 8 “trailer” has the same meaning as in subsection 1 (1) of the Highway Traffic Act ; (“remorque”)  \\n“transient accommodation” means the provision of,  \\n (a) lodging in a hotel, motel, hostel, apartment house, lodging house, boarding house, club or other similar \\naccommodation, whether or not a membership is required for the lodging,  \\n (b) prepared food products provided pursuant to the American plan, modified American plan or other arrangement that \\ncombines the provision of lodging and prepared food products at a single price, or  \\n (c) lodging or lodging and prepared food products provided as a right or privilege of membership in an organization, \\nwhether or not a specific charge for the lodging and prepared food products is made,  \\n but does not include the provision of lodging let for a continuous period of one month or more or lodging in a lodging \\nhouse, rooming house or boarding house that has accommodation for fewer than four tenants; (“logement temporaire”)  \\n“unfunded benefits plan” means a plan which gives protection against risk to an individual that could otherwise be obtained \\nby taking out a contract of insurance, whether the benefits are partly insured or not, and where payments are made by the \\nplanholder directly to or on behalf of the member of the plan or to the vendor upon the occurrence of the risk; (“régime \\nd’avantages sociaux sans capitalisation”)  \\n“use” includes storage and the exercise of any right or power over tangible personal property incidental to the ownership of \\nthat property, but it does not include the sale of that property at a retail sale or the keeping, retaining or exercising of any \\nright or power over tangible personal property shipped or brought into Ontario for the purpose of transporting it \\nsubsequently outside Ontario for use thereafter solely outside Ontario or for the purpose of being processed, fabricated or \\nmanufactured into, attached to or incorporated into other tangible personal property to be transported outside Ontario and \\nthereafter used solely outside Ontario; (“usage”)  \\n“vendor” means a person who, in the ordinary course of business,  \\n (a) sells or licenses tangible personal property,  \\n (b) sells or renders a taxable service,  \\n (c) owns or operates a place of amusement,  \\n (d) is an insurer, an insurance agent licensed under the Insurance Act  or a registered insurance broker as defined in the \\nRegistered Insurance Brokers Act , \\n (e) is a person, including the Crown, to whom contributions are paid in respect of an insurance scheme or compensation \\nfund established by or under any Act of the Parliament of Canada or the Legislature of Ontario,  \\n (f) is the planholder of a benefits plan or the person to whom the planholder or planholders of a benefits plan pay \\npremiums,  \\n (g) is a person who, in consideration of payment, whether direct or indirect, supplies to another person ingredients, \\nutensils, facilities or equipment on the person’s premises for that other person to produce beer or wine for his or her \\nown consumption or use, or  \\n (h) is the holder of group insurance to whom charges are paid by persons whose risks are covered by the policy. \\n(“vendeur”)  R.S.O. 1990, c.  R.31, s.  1; 1993, c.  12, s.  1 (1); 1994, c.  13, s.  1; 1994, c.  17, s.  135; 1996, c.  29, s.  23; \\n1997, c.  10, s.  30 (1-4); 1997, c.  43, Sched.  D, s.  1; 2000, c.  10, s.  23; 2001, c.  8, s. 227; 2001, c.  23, s.  188; 2002, c.  8, \\nSched. J, s.  1; 2002, c.  17, Sched.  F, Table; 2002, c.  22, s.  170 (1); 2005, c.  31, Sched.  19, s.  1; 2006, c.  21, Sched.  F, \\ns. 136 (2); 2006, c.  33, Sched.  Z.4, s.  1; 2008, c.  7, Sched.  R, s. 1 (1, 2); 201 0, c. 26, Sched.  17, s.  1 (1-9); 2011, c.  9, \\nSched.  37, s.  1 (1). \\nQualifying trust  \\n(1.0.1)   For the purposes of this Act, a qualifying trust comes into existence on the earlier of,  \\n (a) the date on which it satisfies such requirements as may be prescribed by the Minister for the purposes of this clause; or  \\n (b) the earliest date on which amounts paid into the plan exceed the amounts required for the payment of benefits that are \\nforeseeable and payable within three years, or within such other period as may be prescribed by the Minister.  2010, \\nc. 26, Sched.  17, s.  1 (10).   2011, c.  9, Sched.  37, s.  1 (2). '),\n",
       " Document(metadata={'doc_id': 'cb5e1cd1-a730-402e-9fbc-ab72de802392', 'id': '59cf4ae7-df86-4a62-abcd-fcee78342061'}, page_content='56  (k) prescribing standards and requirements in respect of recreational camps and requiring owners and operators of \\nrecreational camps to comply with such standards and requirements;  \\n (l) prescribing standards and requirements in respect of lumbering camps, mining camps, railway construction works or \\nother places where labour is employed in territory without municipal organization and requiring owners and operators \\nof such camps, works or other places to comply with such standards and requirements;  \\n (m) governing small drinking water systems;  \\n (n) prescribing provisions in regulations dealing with small drinking water systems which may be varied by a medical \\nofficer of health for the purposes of section 12.1;  \\n (o) prescribing chemical, biological and radiological standards for water from small drinking water systems and requiring \\ncompliance with them;  \\n (p) in respect of any matter related to the health or safety of persons who receive or who may receive water from small \\ndrinking water systems;  \\n (q) requiring owners and operators of small drinking water systems to comply with prescribed requirements, including, \\nbut not limited to, requirements,  \\n (i) governing the construction, alteration, repair, location, operation, maintenance and use, or prohibiting any of \\nthem, of small drinking water systems and related buildings, appurtenances and equipment,  \\n (ii) in respect of the presence of staff, other than the operator, and  \\n (iii) prescribing standards and requirements in respect of owners and operators of small drinking water systems and in \\nrespect of persons who are employed in connection with the systems;  \\n (r) respecting records that must be kept in respect of small drinking water systems;  \\n (s) specifying powers and duties of medical officers of health and public health inspectors in respect of small drinking \\nwater systems, including authorizing medical officers of health and public health inspectors to issue mandatory \\ndirections in respect of individual small drinking water systems subject to such conditions as may be set out in the \\nregulation;  \\n (t) prescribing reporting requirements by owners and operators of small -drinking water systems, including requirements \\nfor reporting to the public and the matters on which owners and operators are to report.  R.S.O. 1990, c.  H.7, s.  96 (3); \\n1997, c.  15, s.  5 (3); 2007, c.  10, Sched.  D, s.  1 (8); 2017, c. 25, Sched. 3, s. 14 (1, 2).  \\n(3.1)   REPEALED : 2017, c. 25, Sched. 3, s. 14 (3).  \\nRegulations relating to Part  IV \\n(4)  The Lieutenant Governor in Council may make regulations relating to Part  IV, \\n (a) governing the establishment, equipment, operation and maintenance of clinics for the examination and treatment of \\npersons in respect of sexually transmitted diseases;  \\n (b) governing the handling, transportation and burial of bodies of persons who have died of a communicable disease or \\nwho had a communicable disease at the time of death;  \\n (c) requiring and governing the detention, isolation, handling, laboratory examination, taking of specimens from or \\ndestruction of any animal that has or may have a disease or a condition that may adversely affect the health of any \\nperson;  \\n (d) requiring the reporting of cases of animals that have or may have diseases that adversely affect the health of persons or \\nthat may adversely affect the health of any person, specifying diseases of animals that adversely affect the health of \\npersons, specifying the classes of persons who shall make such reports and specifying the persons to whom such \\nreports shall be made;  \\n (e) requiring and governing the immunization of domestic animals against any disease that may adversely affect the health \\nof any person;  \\n (f) respecting the reporting of bites of persons by animals or contacts to persons that may result in human rabies, and \\nrequiring such reporting, specifying the persons or class of persons who must make such reports and requiring and \\ngoverning the furnishing of additional information and the form and content of such reports and additional \\ninformation;  '),\n",
       " Document(metadata={'doc_id': '743ece07-1635-4ebb-8722-3c2ab616a7d8', 'id': '77a8f6cf-0445-44cd-9c28-b39ff8bb0cd4'}, page_content='129 Regulations  \\n(10)  The Minister may make regulations governing the sale, lease or other disposition of school sites, parts of school sites or \\nother property of a board, including regulations,  \\n (a) prescribing the circumstances in which a board may make or shall make a sale, lease or disposition;  \\n (b) respecting the conduct of a sale, lease or disposition;  \\n (c) prescribing the circumstances in which a board shall give notice to the Minister of a sale, lease or disposition or obtain \\nthe approval of the Minister for the sale, lease or disposition;  \\n (d) respecting to whom school sites or parts of school sites or property may or must be offered;  \\n (e) respecting the price or other consideration for a disposition or class of dispositions;  \\n (f) respecting the use of the proceeds of a disposition or class of dispositions;  \\n (g) respecting the purposes for which school sites, parts of school sites or property that is disposed of to other boards must \\nbe used by the transferee board;  \\n (h) requiring a transferee board to return a school site or part of a school site or property to the transferor board if no \\nlonger used for the purposes referred to in clause (g);  \\n (i) respecting the price or other consideration for a return or class of returns required under clause (h). 2023, c. 11, Sched. \\n2, s. 19.  \\nSame  \\n(11)  The Lieutenant Governor in Council may make regulations,  \\n (a) for the purposes of subsection (6), governing the circumstances when a school site, part of a school site or other \\nproperty is not needed to meet a board’s current pupil accommodation needs or its pupil accommodation needs for the \\nnext 10 years, and authorizing the Minister to determine whether the circumstances exist;  \\n (b) providing for transitional matters that, in the Lieutenant Governor in Council’s opinion, are necessary or desirable in \\nconnection with the implementation of section 19 of Schedule 2 to the Better Schools and Student Outcomes Act, \\n2023 . 2023, c. 11, Sched. 2, s. 19.  \\nConflict with transitional regulations  \\n(12)  In the event of a conflict between this Act or the regulations and a regulation made under clause (11) (b), the regulation \\nmade under clause (11) (b) prevails. 2023, c. 11, Sched. 2, s. 19.  \\nSection Amendments with date in force (d/m/y)  \\n1997, c. 31, s. 100 (1) - 01/01/1998  \\n2000, c. 11, s. 21  - 23/06/2000  \\n2002, c. 18, Sched. G, s. 7 (1 -4) - 26/11/2002  \\n2023, c. 11, Sched. 2, s. 19  - 31/12/2023  \\nDealings with property  \\nBoard may purchase or apply to expropriate within its jurisdiction  \\n195 (1)  Subject to subsections (1.1), (1.2) and (1.5) , and to the provisions of section 90 as to the approval of the site of a new \\nschool by a rural separate school board, every board may select and may acquire, by purchase, lease or otherwise, or may \\nexpropriate, a school site or any other land that is within its area of jurisdiction.  2019, c. 9, Sched. 4 , s. 1 ; 2023, c. 11, Sched. \\n2, s. 20 (1) . \\nNotice of intent to acquire  \\n(1.1)   Before a board acquires or applies for an approval to expropriate a school site or any other land under subsection (1), \\nthe board shall give notice to the Minister, within the prescribed time period and in the manner and form specified by the \\nMinister, of the board’s intent to acquire or apply to expropriate the land.  2019, c. 9, Sched. 4 , s. 1.  ')]"
      ]
     },
     "execution_count": 6,
     "metadata": {},
     "output_type": "execute_result"
    }
   ],
   "source": [
    "from src.retrievers import get_vector_retriever\n",
    "retriever = get_vector_retriever(config)\n",
    "retriever.invoke(\"What is the regulation around building temporary encampments?\")"
   ]
  },
  {
   "cell_type": "markdown",
   "metadata": {},
   "source": [
    "## Direct API Query w/ WorkspaceClient"
   ]
  },
  {
   "cell_type": "code",
   "execution_count": 9,
   "metadata": {},
   "outputs": [
    {
     "data": {
      "text/plain": [
       "'devanshu_pandey.retriever_agent_demo.vs_elaws_sample'"
      ]
     },
     "execution_count": 9,
     "metadata": {},
     "output_type": "execute_result"
    }
   ],
   "source": []
  },
  {
   "cell_type": "code",
   "execution_count": 29,
   "metadata": {},
   "outputs": [],
   "source": [
    "import requests\n",
    "from src.interface import load_interface_config\n",
    "from pathlib import Path\n",
    "interface_config = load_interface_config(Path(\"../interfaces\") / \"search\" / \"config.yaml\")\n",
    "\n",
    "from databricks.sdk import WorkspaceClient\n",
    "\n",
    "workspace_client = WorkspaceClient()\n",
    "workspace_url = workspace_client.config.host\n",
    "token = workspace_client.config.token \n",
    "\n",
    "endpoint_url = (\n",
    "    f\"{workspace_url}/api/2.0/vector-search/indexes/{interface_config.vs_index_name}/query\"\n",
    ")\n",
    "\n",
    "headers = {\"Authorization\": f\"Bearer {token}\", \"Content-Type\": \"application/json\"}\n",
    "\n",
    "payload = {\n",
    "    \"num_results\": 5,\n",
    "    \"columns\": [\"text\",'doc_id'],\n",
    "    \"query_text\": \"What is the regulation around building temporary encampments?\",\n",
    "}\n",
    "\n",
    "response = requests.post(endpoint_url, headers=headers, json=payload)"
   ]
  },
  {
   "cell_type": "code",
   "execution_count": 20,
   "metadata": {},
   "outputs": [
    {
     "data": {
      "text/plain": [
       "\"I've found 5 documents related to your query.\""
      ]
     },
     "execution_count": 20,
     "metadata": {},
     "output_type": "execute_result"
    }
   ],
   "source": [
    "f\"I've found {response.json()['result']['row_count']} documents related to your query.\""
   ]
  },
  {
   "cell_type": "code",
   "execution_count": 30,
   "metadata": {},
   "outputs": [
    {
     "data": {
      "text/plain": [
       "{'manifest': {'column_count': 3,\n",
       "  'columns': [{'name': 'text'}, {'name': 'doc_id'}, {'name': 'score'}]},\n",
       " 'result': {'row_count': 5,\n",
       "  'data_array': [[' 8 “trailer” has the same meaning as in subsection 1 (1) of the Highway Traffic Act ; (“remorque”)  \\n“transient accommodation” means the provision of,  \\n (a) lodging in a hotel, motel, hostel, apartment house, lodging house, boarding house, club or other similar \\naccommodation, whether or not a membership is required for the lodging,  \\n (b) prepared food products provided pursuant to the American plan, modified American plan or other arrangement that \\ncombines the provision of lodging and prepared food products at a single price, or  \\n (c) lodging or lodging and prepared food products provided as a right or privilege of membership in an organization, \\nwhether or not a specific charge for the lodging and prepared food products is made,  \\n but does not include the provision of lodging let for a continuous period of one month or more or lodging in a lodging \\nhouse, rooming house or boarding house that has accommodation for fewer than four tenants; (“logement temporaire”)  \\n“unfunded benefits plan” means a plan which gives protection against risk to an individual that could otherwise be obtained \\nby taking out a contract of insurance, whether the benefits are partly insured or not, and where payments are made by the \\nplanholder directly to or on behalf of the member of the plan or to the vendor upon the occurrence of the risk; (“régime \\nd’avantages sociaux sans capitalisation”)  \\n“use” includes storage and the exercise of any right or power over tangible personal property incidental to the ownership of \\nthat property, but it does not include the sale of that property at a retail sale or the keeping, retaining or exercising of any \\nright or power over tangible personal property shipped or brought into Ontario for the purpose of transporting it \\nsubsequently outside Ontario for use thereafter solely outside Ontario or for the purpose of being processed, fabricated or \\nmanufactured into, attached to or incorporated into other tangible personal property to be transported outside Ontario and \\nthereafter used solely outside Ontario; (“usage”)  \\n“vendor” means a person who, in the ordinary course of business,  \\n (a) sells or licenses tangible personal property,  \\n (b) sells or renders a taxable service,  \\n (c) owns or operates a place of amusement,  \\n (d) is an insurer, an insurance agent licensed under the Insurance Act  or a registered insurance broker as defined in the \\nRegistered Insurance Brokers Act , \\n (e) is a person, including the Crown, to whom contributions are paid in respect of an insurance scheme or compensation \\nfund established by or under any Act of the Parliament of Canada or the Legislature of Ontario,  \\n (f) is the planholder of a benefits plan or the person to whom the planholder or planholders of a benefits plan pay \\npremiums,  \\n (g) is a person who, in consideration of payment, whether direct or indirect, supplies to another person ingredients, \\nutensils, facilities or equipment on the person’s premises for that other person to produce beer or wine for his or her \\nown consumption or use, or  \\n (h) is the holder of group insurance to whom charges are paid by persons whose risks are covered by the policy. \\n(“vendeur”)  R.S.O. 1990, c.  R.31, s.  1; 1993, c.  12, s.  1 (1); 1994, c.  13, s.  1; 1994, c.  17, s.  135; 1996, c.  29, s.  23; \\n1997, c.  10, s.  30 (1-4); 1997, c.  43, Sched.  D, s.  1; 2000, c.  10, s.  23; 2001, c.  8, s. 227; 2001, c.  23, s.  188; 2002, c.  8, \\nSched. J, s.  1; 2002, c.  17, Sched.  F, Table; 2002, c.  22, s.  170 (1); 2005, c.  31, Sched.  19, s.  1; 2006, c.  21, Sched.  F, \\ns. 136 (2); 2006, c.  33, Sched.  Z.4, s.  1; 2008, c.  7, Sched.  R, s. 1 (1, 2); 201 0, c. 26, Sched.  17, s.  1 (1-9); 2011, c.  9, \\nSched.  37, s.  1 (1). \\nQualifying trust  \\n(1.0.1)   For the purposes of this Act, a qualifying trust comes into existence on the earlier of,  \\n (a) the date on which it satisfies such requirements as may be prescribed by the Minister for the purposes of this clause; or  \\n (b) the earliest date on which amounts paid into the plan exceed the amounts required for the payment of benefits that are \\nforeseeable and payable within three years, or within such other period as may be prescribed by the Minister.  2010, \\nc. 26, Sched.  17, s.  1 (10).   2011, c.  9, Sched.  37, s.  1 (2). ',\n",
       "    '4109d9a3-5486-4669-8485-b94afe958f65',\n",
       "    0.5865382],\n",
       "   ['56  (k) prescribing standards and requirements in respect of recreational camps and requiring owners and operators of \\nrecreational camps to comply with such standards and requirements;  \\n (l) prescribing standards and requirements in respect of lumbering camps, mining camps, railway construction works or \\nother places where labour is employed in territory without municipal organization and requiring owners and operators \\nof such camps, works or other places to comply with such standards and requirements;  \\n (m) governing small drinking water systems;  \\n (n) prescribing provisions in regulations dealing with small drinking water systems which may be varied by a medical \\nofficer of health for the purposes of section 12.1;  \\n (o) prescribing chemical, biological and radiological standards for water from small drinking water systems and requiring \\ncompliance with them;  \\n (p) in respect of any matter related to the health or safety of persons who receive or who may receive water from small \\ndrinking water systems;  \\n (q) requiring owners and operators of small drinking water systems to comply with prescribed requirements, including, \\nbut not limited to, requirements,  \\n (i) governing the construction, alteration, repair, location, operation, maintenance and use, or prohibiting any of \\nthem, of small drinking water systems and related buildings, appurtenances and equipment,  \\n (ii) in respect of the presence of staff, other than the operator, and  \\n (iii) prescribing standards and requirements in respect of owners and operators of small drinking water systems and in \\nrespect of persons who are employed in connection with the systems;  \\n (r) respecting records that must be kept in respect of small drinking water systems;  \\n (s) specifying powers and duties of medical officers of health and public health inspectors in respect of small drinking \\nwater systems, including authorizing medical officers of health and public health inspectors to issue mandatory \\ndirections in respect of individual small drinking water systems subject to such conditions as may be set out in the \\nregulation;  \\n (t) prescribing reporting requirements by owners and operators of small -drinking water systems, including requirements \\nfor reporting to the public and the matters on which owners and operators are to report.  R.S.O. 1990, c.  H.7, s.  96 (3); \\n1997, c.  15, s.  5 (3); 2007, c.  10, Sched.  D, s.  1 (8); 2017, c. 25, Sched. 3, s. 14 (1, 2).  \\n(3.1)   REPEALED : 2017, c. 25, Sched. 3, s. 14 (3).  \\nRegulations relating to Part  IV \\n(4)  The Lieutenant Governor in Council may make regulations relating to Part  IV, \\n (a) governing the establishment, equipment, operation and maintenance of clinics for the examination and treatment of \\npersons in respect of sexually transmitted diseases;  \\n (b) governing the handling, transportation and burial of bodies of persons who have died of a communicable disease or \\nwho had a communicable disease at the time of death;  \\n (c) requiring and governing the detention, isolation, handling, laboratory examination, taking of specimens from or \\ndestruction of any animal that has or may have a disease or a condition that may adversely affect the health of any \\nperson;  \\n (d) requiring the reporting of cases of animals that have or may have diseases that adversely affect the health of persons or \\nthat may adversely affect the health of any person, specifying diseases of animals that adversely affect the health of \\npersons, specifying the classes of persons who shall make such reports and specifying the persons to whom such \\nreports shall be made;  \\n (e) requiring and governing the immunization of domestic animals against any disease that may adversely affect the health \\nof any person;  \\n (f) respecting the reporting of bites of persons by animals or contacts to persons that may result in human rabies, and \\nrequiring such reporting, specifying the persons or class of persons who must make such reports and requiring and \\ngoverning the furnishing of additional information and the form and content of such reports and additional \\ninformation;  ',\n",
       "    'cb5e1cd1-a730-402e-9fbc-ab72de802392',\n",
       "    0.5793562],\n",
       "   ['129 Regulations  \\n(10)  The Minister may make regulations governing the sale, lease or other disposition of school sites, parts of school sites or \\nother property of a board, including regulations,  \\n (a) prescribing the circumstances in which a board may make or shall make a sale, lease or disposition;  \\n (b) respecting the conduct of a sale, lease or disposition;  \\n (c) prescribing the circumstances in which a board shall give notice to the Minister of a sale, lease or disposition or obtain \\nthe approval of the Minister for the sale, lease or disposition;  \\n (d) respecting to whom school sites or parts of school sites or property may or must be offered;  \\n (e) respecting the price or other consideration for a disposition or class of dispositions;  \\n (f) respecting the use of the proceeds of a disposition or class of dispositions;  \\n (g) respecting the purposes for which school sites, parts of school sites or property that is disposed of to other boards must \\nbe used by the transferee board;  \\n (h) requiring a transferee board to return a school site or part of a school site or property to the transferor board if no \\nlonger used for the purposes referred to in clause (g);  \\n (i) respecting the price or other consideration for a return or class of returns required under clause (h). 2023, c. 11, Sched. \\n2, s. 19.  \\nSame  \\n(11)  The Lieutenant Governor in Council may make regulations,  \\n (a) for the purposes of subsection (6), governing the circumstances when a school site, part of a school site or other \\nproperty is not needed to meet a board’s current pupil accommodation needs or its pupil accommodation needs for the \\nnext 10 years, and authorizing the Minister to determine whether the circumstances exist;  \\n (b) providing for transitional matters that, in the Lieutenant Governor in Council’s opinion, are necessary or desirable in \\nconnection with the implementation of section 19 of Schedule 2 to the Better Schools and Student Outcomes Act, \\n2023 . 2023, c. 11, Sched. 2, s. 19.  \\nConflict with transitional regulations  \\n(12)  In the event of a conflict between this Act or the regulations and a regulation made under clause (11) (b), the regulation \\nmade under clause (11) (b) prevails. 2023, c. 11, Sched. 2, s. 19.  \\nSection Amendments with date in force (d/m/y)  \\n1997, c. 31, s. 100 (1) - 01/01/1998  \\n2000, c. 11, s. 21  - 23/06/2000  \\n2002, c. 18, Sched. G, s. 7 (1 -4) - 26/11/2002  \\n2023, c. 11, Sched. 2, s. 19  - 31/12/2023  \\nDealings with property  \\nBoard may purchase or apply to expropriate within its jurisdiction  \\n195 (1)  Subject to subsections (1.1), (1.2) and (1.5) , and to the provisions of section 90 as to the approval of the site of a new \\nschool by a rural separate school board, every board may select and may acquire, by purchase, lease or otherwise, or may \\nexpropriate, a school site or any other land that is within its area of jurisdiction.  2019, c. 9, Sched. 4 , s. 1 ; 2023, c. 11, Sched. \\n2, s. 20 (1) . \\nNotice of intent to acquire  \\n(1.1)   Before a board acquires or applies for an approval to expropriate a school site or any other land under subsection (1), \\nthe board shall give notice to the Minister, within the prescribed time period and in the manner and form specified by the \\nMinister, of the board’s intent to acquire or apply to expropriate the land.  2019, c. 9, Sched. 4 , s. 1.  ',\n",
       "    '743ece07-1635-4ebb-8722-3c2ab616a7d8',\n",
       "    0.57103807],\n",
       "   ['42 Section Amendments with date in force (d/m/y)  \\n2009, c. 31, s. 67 (10, 11)  - 01/01/2021; 2009, c. 31, s. 67 (12, 13)  - not in force  \\nRegulations, Minister  \\nSame, hazards and reporting of incidents  \\n64 (1)  The Minister may make regulations,  \\n (a) governing reportable hazards, including,  \\n (i) specifying a hazard or a class of hazards as a reportable hazard,  \\n (ii) requiring the reporting of a reportable hazard, prescribing the persons or classes of persons who are required to \\nmake such reports, prescribing the persons to whom such reports are to be made and prescribing the information \\nto be provided,  \\n (iii) specifying the manner and time in which reports of a reportable hazard shall be made, and  \\n (iv) respecting any action that must be taken, including imposing conditions, with respect to the reporting of a \\nreportable hazard or requiring any person to protect and preserve the animal, the carcass of a dead animal and any \\ndiagnostic or other material relating to an animal, animal product, animal by -product, input, fomite, vector, waste \\nmaterial or any other thing;  \\n (b) governing immediately notifiable hazards, including,  \\n (i) specifying a hazard or a class of hazards as an immediately notifiable hazard,  \\n (ii) requiring the reporting of an immediately notifiable hazard, prescribing the persons, facilities or classes of \\npersons or facilities that are required to make such reports, prescribing the persons to whom such reports are to be \\nmade and prescribing the information to be provided,  \\n (iii) specifying the manner and time in which reports of an immediately notifiable hazard shall be made, and  \\n (iv) respecting any action that must be taken, including imposing conditions, with respect to the reporting of an \\nimmediately notifiable hazard;  \\n (c) governing periodically notifiable hazards, including,  \\n (i) specifying a hazard or a class of hazards as a periodically notifiable hazard,  \\n (ii) requiring the reporting of a periodically notifiable hazard, prescribing the persons, facilities or classes of persons \\nor facilities that are required to make such reports, prescribing the persons to whom such reports are to be made \\nand prescribing the information to be provided,  \\n (iii) requiring the reporting of positive, negative and inconclusive findings with respect to the periodically notifiable \\nhazard,  \\n (iv) specifying the manner and time in which reports of a periodically notifiable hazard shall be made, and  \\n (v) respecting any action that must be taken, including imposing conditions, with respect to the reporting of a \\nperiodically notifiable hazard;  \\n (d) governing the reporting of incidents or findings by veterinarians under section 9, including,  \\n (i) specifying factors that must be present in order for an incident or finding to be reportable,  \\n (ii) requiring the reporting of an incident or finding,  specifying the information that is required to be reported and \\nprescribing the persons to whom such reports are to be made,  \\n (iii) specifying the manner and time in which reports of such incidents or findings shall be made, and  \\n (iv) respecting any action that must be taken, including imposing conditions, with respect to the incident or finding;  \\n (e) exempting any person or class of persons from the reporting requirements in sections 7 to 9 and prescribing any \\nconditions that must be satisfied for the exemption to apply.  2009, c.  31, s.  64 (1). \\nSame, collecting, using, and disclosing information  \\n(2)  The Minister may make regulations governing the collection, use and disclosure of information, including personal \\ninformation, including,  \\n (a) prescribing purposes for collecting information under subsection 13 (1);  \\n (b) prescribing requirements and restrictions for the purposes of subsection 13 (2);  \\n (c) prescribing purposes for disclosing personal information under subsection 13 (5);  ',\n",
       "    '13c2fcbd-8b9b-4d3a-aa33-abfde22feff1',\n",
       "    0.57090324],\n",
       "   ['223  (a) flares, lamps or lanterns that have been approved by the Ministry, capable of continuously producing two warning \\nlights, each visible from a distance of at least 150 metres for a period of at least eight hours; or  \\n (b) portable reflectors that have been approved by the Ministry.  R.S.O. 1990, c.  H.8, s.  170 (10); 2005, c.  26, Sched.  A, \\ns. 28 (1). \\nFlares on disabled commercial motor vehicle or trailer  \\n(11)  When any commercial motor vehicle or trailer is disabled during the period when lighted lamps are required to be \\ndisplayed on vehicles and the vehicle cannot immediately be removed from the roadway on which the speed limit is in excess \\nof 60 kilometres per hour, the driver or other person in charge of the vehicle shall cause the flares, lamps or lanterns to b e \\nlighted, and shall cause them or portable reflectors approved by the Ministry to be placed and maintained on the highway \\nuntil the time that lighted lamps are not required to be displayed on vehicles or the removal of the vehicle, one at a distan ce \\nof approximately 30 metres in advance of the vehicle and one at a distance of approximately 30 metres to the rear of the \\nvehicle.  R.S.O. 1990, c.  H.8, s.  170 (11); 2005, c.  26, Sched.  A, s. 28 (1). \\nVehicles interfering with traffic  \\n(12)  Despite the other provisions of this section, no person shall park or stand a vehicle on a highway in such a manner as to \\ninterfere with the movement of traffic or the clearing of snow from the highway.  R.S.O. 1990, c.  H.8, s.  170 (12).  \\nApplication of subs.  (12), where by -law in force  \\n(13)  The provisions of subsection (12) with respect to parking or standing in such a manner as to interfere with the \\nmovement of traffic or with the clearing of snow from the highway do not apply to a portion of a highway in respect of which \\na municipal by -law prohibiting or regulating parking or standing in such a manner as to interfere with traffic or with the \\nclearing of snow from the highway, as the case may be, is in force.  R.S.O. 1990, c.  H.8, s.  170 (13).  \\nPenalty  \\n(14)  Every person who contravenes this section is guilty of an offence and on conviction is liable to a fine of not less than \\n$20 and not more than $100.  R.S.O. 1990, c.  H.8, s.  170 (14).  \\nPowers of officer to remove vehicle  \\n(15)  A police officer, police cadet, municipal law enforcement officer or an officer appointed for carrying out the provisions \\nof this Act, upon discovery of any vehicle parked or standing in contravention of subsection (12), of a regulation made under  \\nsubsection 26 (3) of the Public Transportation and Highway Improvement Act  or of a municipal by -law, may cause it to be \\nmoved  or taken to and placed or stored in a suitable place and all costs and charges for the removal, care and storage of the \\nvehicle, if any, are a lien upon the vehicle, which may be enforced in the manner provided by the  Repair and Storage Liens \\nAct.  2005, c.  26, Sched.  A, s. 28 (2). \\nSection Amendments with date in force (d/m/y)  \\n2002, c. 17, Sched. F, Table  - 01/01/2003  \\n2005, c.  26, Sched.  A, s. 28 (1) - 21/11/2005; 2005, c.  26, Sched.  A, s. 28 (2) - 28/04/2005  \\nCTS 20 SE 10 - 5 \\n171 REPEALED : 2021, c. 26, Sched. 3, s. 67 (3).  \\nSection Amendments with date in force (d/m/y)  \\n2014, c. 9, Sched. 2, s. 39  - 01/01/2017  \\n2021, c. 26, Sched. 3, s. 67 (3)  - 01/01/2024  \\nRacing, stunts, etc., prohibited  \\n172 (1)  No person shall drive a motor vehicle on a highway in a race or contest, on a bet or wager or while performing a \\nstunt. 2021, c. 26, Sched. 1, s. 15 (4).  \\nOffence  \\n(2)  Every person who contravenes subsection (1) is guilty of an offence and on conviction is liable to a fine of not less than \\n$2,000 and not more than $10,000 or to imprisonment for a term of not more than six months, or to both, and in addition, the \\ncourt shall make an order suspending the person’s driver’s licence,  \\n (a) on a first conviction under this section, for not less than one year and not more than three years;  \\n (b) on a second conviction under this section, for not less than three years and not more than 10 years; or  ',\n",
       "    'b30d691f-388f-46b8-a2c8-35c3b9740204',\n",
       "    0.57024467]]},\n",
       " 'next_page_token': ''}"
      ]
     },
     "execution_count": 30,
     "metadata": {},
     "output_type": "execute_result"
    }
   ],
   "source": [
    "response.json()"
   ]
  },
  {
   "cell_type": "code",
   "execution_count": 32,
   "metadata": {},
   "outputs": [
    {
     "data": {
      "text/plain": [
       "[' 8 “trailer” has the same meaning as in subsection 1 (1) of the Highway Traffic Act ; (“remorque”)  \\n“transient accommodation” means the provision of,  \\n (a) lodging in a hotel, motel, hostel, apartment house, lodging house, boarding house, club or other similar \\naccommodation, whether or not a membership is required for the lodging,  \\n (b) prepared food products provided pursuant to the American plan, modified American plan or other arrangement that \\ncombines the provision of lodging and prepared food products at a single price, or  \\n (c) lodging or lodging and prepared food products provided as a right or privilege of membership in an organization, \\nwhether or not a specific charge for the lodging and prepared food products is made,  \\n but does not include the provision of lodging let for a continuous period of one month or more or lodging in a lodging \\nhouse, rooming house or boarding house that has accommodation for fewer than four tenants; (“logement temporaire”)  \\n“unfunded benefits plan” means a plan which gives protection against risk to an individual that could otherwise be obtained \\nby taking out a contract of insurance, whether the benefits are partly insured or not, and where payments are made by the \\nplanholder directly to or on behalf of the member of the plan or to the vendor upon the occurrence of the risk; (“régime \\nd’avantages sociaux sans capitalisation”)  \\n“use” includes storage and the exercise of any right or power over tangible personal property incidental to the ownership of \\nthat property, but it does not include the sale of that property at a retail sale or the keeping, retaining or exercising of any \\nright or power over tangible personal property shipped or brought into Ontario for the purpose of transporting it \\nsubsequently outside Ontario for use thereafter solely outside Ontario or for the purpose of being processed, fabricated or \\nmanufactured into, attached to or incorporated into other tangible personal property to be transported outside Ontario and \\nthereafter used solely outside Ontario; (“usage”)  \\n“vendor” means a person who, in the ordinary course of business,  \\n (a) sells or licenses tangible personal property,  \\n (b) sells or renders a taxable service,  \\n (c) owns or operates a place of amusement,  \\n (d) is an insurer, an insurance agent licensed under the Insurance Act  or a registered insurance broker as defined in the \\nRegistered Insurance Brokers Act , \\n (e) is a person, including the Crown, to whom contributions are paid in respect of an insurance scheme or compensation \\nfund established by or under any Act of the Parliament of Canada or the Legislature of Ontario,  \\n (f) is the planholder of a benefits plan or the person to whom the planholder or planholders of a benefits plan pay \\npremiums,  \\n (g) is a person who, in consideration of payment, whether direct or indirect, supplies to another person ingredients, \\nutensils, facilities or equipment on the person’s premises for that other person to produce beer or wine for his or her \\nown consumption or use, or  \\n (h) is the holder of group insurance to whom charges are paid by persons whose risks are covered by the policy. \\n(“vendeur”)  R.S.O. 1990, c.  R.31, s.  1; 1993, c.  12, s.  1 (1); 1994, c.  13, s.  1; 1994, c.  17, s.  135; 1996, c.  29, s.  23; \\n1997, c.  10, s.  30 (1-4); 1997, c.  43, Sched.  D, s.  1; 2000, c.  10, s.  23; 2001, c.  8, s. 227; 2001, c.  23, s.  188; 2002, c.  8, \\nSched. J, s.  1; 2002, c.  17, Sched.  F, Table; 2002, c.  22, s.  170 (1); 2005, c.  31, Sched.  19, s.  1; 2006, c.  21, Sched.  F, \\ns. 136 (2); 2006, c.  33, Sched.  Z.4, s.  1; 2008, c.  7, Sched.  R, s. 1 (1, 2); 201 0, c. 26, Sched.  17, s.  1 (1-9); 2011, c.  9, \\nSched.  37, s.  1 (1). \\nQualifying trust  \\n(1.0.1)   For the purposes of this Act, a qualifying trust comes into existence on the earlier of,  \\n (a) the date on which it satisfies such requirements as may be prescribed by the Minister for the purposes of this clause; or  \\n (b) the earliest date on which amounts paid into the plan exceed the amounts required for the payment of benefits that are \\nforeseeable and payable within three years, or within such other period as may be prescribed by the Minister.  2010, \\nc. 26, Sched.  17, s.  1 (10).   2011, c.  9, Sched.  37, s.  1 (2). ',\n",
       " '4109d9a3-5486-4669-8485-b94afe958f65',\n",
       " 0.5865382]"
      ]
     },
     "execution_count": 32,
     "metadata": {},
     "output_type": "execute_result"
    }
   ],
   "source": []
  }
 ],
 "metadata": {
  "kernelspec": {
   "display_name": "Python 3",
   "language": "python",
   "name": "python3"
  },
  "language_info": {
   "codemirror_mode": {
    "name": "ipython",
    "version": 3
   },
   "file_extension": ".py",
   "mimetype": "text/x-python",
   "name": "python",
   "nbconvert_exporter": "python",
   "pygments_lexer": "ipython3",
   "version": "3.12.6"
  }
 },
 "nbformat": 4,
 "nbformat_minor": 2
}
