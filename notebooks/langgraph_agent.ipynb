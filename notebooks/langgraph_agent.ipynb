{
 "cells": [
  {
   "cell_type": "code",
   "execution_count": 1,
   "metadata": {},
   "outputs": [],
   "source": [
    "# load config\n",
    "from pathlib import Path\n",
    "import mlflow\n",
    "from src.config import parse_config\n",
    "import os\n",
    "\n",
    "root_dir = Path(os.getcwd()).parent\n",
    "config_path = root_dir / 'agents' / 'langgraph' / 'config.yaml'\n",
    "agent_path = root_dir / 'agents' / 'langgraph' / 'agent.py'\n",
    "\n",
    "mlflow_config = mlflow.models.ModelConfig(development_config=config_path)\n",
    "sls_config = parse_config(mlflow_config)"
   ]
  },
  {
   "cell_type": "code",
   "execution_count": 2,
   "metadata": {},
   "outputs": [
    {
     "name": "stdout",
     "output_type": "stream",
     "text": [
      "[NOTICE] Using a notebook authentication token. Recommended for development only. For improved performance, please use Service Principal based authentication. To disable this message, pass disable_notice=True to VectorSearchClient().\n"
     ]
    }
   ],
   "source": [
    "from src.retrievers import get_vector_retriever\n",
    "retriever = get_vector_retriever(sls_config)\n",
    "\n",
    "from databricks_langchain import ChatDatabricks\n",
    "model = ChatDatabricks(endpoint=sls_config.model.endpoint_name)"
   ]
  },
  {
   "cell_type": "markdown",
   "metadata": {},
   "source": [
    "Let's setup some nodes to play with"
   ]
  },
  {
   "cell_type": "code",
   "execution_count": 3,
   "metadata": {},
   "outputs": [],
   "source": [
    "from langgraph.graph import StateGraph, START, END\n",
    "from langchain_core.messages import HumanMessage, AIMessage\n",
    "from src.states import get_state\n",
    "from src.nodes import (\n",
    "    make_query_vector_database_node, \n",
    "    make_context_generation_node,\n",
    "    make_simple_generation_node\n",
    ")\n",
    "\n",
    "state = get_state(sls_config)\n",
    "retriever_node = make_query_vector_database_node(retriever, sls_config)\n",
    "simple_generation_node = make_simple_generation_node(model, sls_config)\n",
    "context_generation_node = make_context_generation_node(model, sls_config)"
   ]
  },
  {
   "cell_type": "markdown",
   "metadata": {},
   "source": [
    "This section builds a simple generation graph. It expects an input state with a dictionary of messages."
   ]
  },
  {
   "cell_type": "code",
   "execution_count": 10,
   "metadata": {},
   "outputs": [],
   "source": [
    "input_example = {'messages':[{'type':'user', 'content':'I want to ship milk using a train, but goats milk not cow milk'}]}"
   ]
  },
  {
   "cell_type": "markdown",
   "metadata": {},
   "source": [
    "We use langchain's convert_to_messages to convert the input state to a list of messages. This is convenient because OpenAI uses 'role' and LangChain uses 'type'. We centralize on LangChain's message type for now.\n",
    "\n",
    "This expects a list of dictionaries with 'type' and 'content' keys. Will fail is the entire {'messages':[{'type':'user', 'content':'What is SQL?'}]} is passed in.\n",
    "\n",
    "We can use the convert_to_openai_messages function to convert the list of LangChain messages back to a list of dictionaries with 'role' and 'content' keys.\n",
    "\n",
    "```python\n",
    "from langchain_core.messages.utils import convert_to_messages\n",
    "lc_msgs = convert_to_messages(input_example['messages'])\n",
    "```"
   ]
  },
  {
   "cell_type": "code",
   "execution_count": 11,
   "metadata": {},
   "outputs": [
    {
     "data": {
      "text/plain": [
       "{'messages': [{'type': 'user',\n",
       "   'content': 'I want to ship milk using a train, but goats milk not cow milk'},\n",
       "  {'role': 'assistant',\n",
       "   'content': \"So, yeah. That's an interesting choice. Shipping goat's milk by train can be a bit more challenging than shipping cow's milk, as goat's milk is often produced in smaller quantities and may require more specialized handling and storage. However, it's definitely doable. You'll want to make sure you're working with a refrigerated train car to keep the milk at a safe temperature during transport, and you may need to consider using specialized packaging or containers to prevent the milk from spoiling or being damaged during the journey. Additionally, you'll need to research any regulations or certifications required for shipping goat's milk by train, such as those related to food safety and handling. It's also important to consider the logistics of loading and unloading the milk at the train stations, as well as the overall cost and efficiency of using train transport for your goat's milk. Have you considered partnering with a logistics company that specializes in shipping perishable goods, or do you have experience with shipping dairy products by train already?\"}]}"
      ]
     },
     "execution_count": 11,
     "metadata": {},
     "output_type": "execute_result"
    }
   ],
   "source": [
    "workflow = StateGraph(state)\n",
    "workflow.add_node(\"generate\", simple_generation_node)\n",
    "workflow.add_edge(START, \"generate\")\n",
    "workflow.add_edge(\"generate\", END)\n",
    "app = workflow.compile()\n",
    "app.invoke(input_example)"
   ]
  },
  {
   "cell_type": "markdown",
   "metadata": {},
   "source": [
    "Check context generation node with no context"
   ]
  },
  {
   "cell_type": "code",
   "execution_count": 12,
   "metadata": {},
   "outputs": [
    {
     "data": {
      "text/plain": [
       "{'messages': [{'type': 'user',\n",
       "   'content': 'I want to ship milk using a train, but goats milk not cow milk'},\n",
       "  {'role': 'assistant',\n",
       "   'content': \"That's an interesting request. Unfortunately, I don't have any specific information about shipping goat's milk by train, and the provided context is empty, so I don't know the details of shipping goat's milk by train. The context is: there is no context provided.\"}]}"
      ]
     },
     "execution_count": 12,
     "metadata": {},
     "output_type": "execute_result"
    }
   ],
   "source": [
    "workflow = StateGraph(state)\n",
    "workflow.add_node(\"generate\", context_generation_node)\n",
    "workflow.add_edge(START, \"generate\")\n",
    "workflow.add_edge(\"generate\", END)\n",
    "app = workflow.compile()\n",
    "app.invoke(input_example)"
   ]
  },
  {
   "cell_type": "markdown",
   "metadata": {},
   "source": [
    "Check retriever only\n"
   ]
  },
  {
   "cell_type": "code",
   "execution_count": 13,
   "metadata": {},
   "outputs": [
    {
     "data": {
      "text/plain": [
       "{'messages': [{'type': 'user',\n",
       "   'content': 'I want to ship milk using a train, but goats milk not cow milk'}],\n",
       " 'context': 'Passage: 3 “plant” means a cream transfer station, a milk transfer station or premises in which milk or cream or milk products are \\nprocessed; (“usine”)  \\n“processing” means heating, pasteurizing, evaporating, drying, churning, freezing, packaging, packing, separating into \\ncomponent parts, combining with other substances by any process or otherwise treating milk or cream or milk products in \\nthe manufacture or preparation of milk products or fluid milk products; (“transformation”)  \\n“processor” means a person engaged in the processing of milk products or fluid milk products; (“préposé à la \\ntransformation”)  \\n“producer” means a producer of milk, cream or cheese; (“producteur”)  \\n“reconstituted milk” means milk designated as reconstituted milk in the regulations; (“lait reconstitué”)  \\n“regulated product” means milk, cream or cheese, or any combination thereof, in respect of which a plan is in force; (“produit \\nréglementé”)  \\n“regulations” means the regulations made under this Act; (“règlements”)  \\n“transporter” means a person transporting milk or cream; (“transporteur”)  \\n“Tribunal” means the Agriculture, Food and Rural Affairs Appeal Tribunal continued under the Ministry of Agriculture, \\nFood and Rural Affairs Act . (“Tribunal”)   R.S.O. 1990, c.  M.12, s.  1; 1997, c.  44, s.  1; 2006, c.  19, Sched.  A, s.  15 (1); \\n2009, c.  33, Sched.  1, s. 20 (1). \\nSection Amendments with date in force (d/m/y)  \\n1997, c. 44, s. 1 (1, 2)  - 18/12/1997  \\n2001, c. 20, s. 60  - see Table of Public Statute Provisions Repealed Under Section 10.1 of the Legislation Act, 2006  \\n2006, c. 19, Sched. A, s. 15 (1)  - 22/06/2006  \\n2009, c. 33, Sched. 1, s. 20 (1)  - 15/12/2009  \\nPurpose of Act  \\n2 The purpose and intent of this Act is,  \\n (a) to stimulate, increase and improve the producing of milk within Ontario;  \\n (b) to provide for the control and regulation in any or all respects of the producing or marketing within Ontario of milk, \\ncream or cheese, or any combination thereof, including the prohibition of such producing or marketing in whole or in \\npart; and  \\n (c) to provide for the control and regulation in any or all respects of the quality of milk, milk products and fluid milk \\nproducts within Ontario.  R.S.O. 1990, c.  M.12, s.  2. \\nADMINISTRATION AND ENFORCEMENT  \\nDirector  \\n2.1  (1)  The Minister may appoint a Director for the purposes of the provisions of this Act and the regulations for which the \\nadministration and enforcement are not delegated to a designated administrative authority.  1997, c.  44, s.  2. \\nDirector appointed by administrative authority  \\n(2)  If the administration and enforcement of any provisions of this Act and the regulations are delegated to a designated \\nadministrative authority, the authority may appoint a Director for the purposes of those provisions.  1997, c.  44, s.  2. \\nResponsibility of Director  \\n(3)  A Director appointed under subsection (1) or (2) shall carry out the administration and enforcement of those provisions \\nof this Act and the regulations with respect to the quality of milk, milk products and fluid milk products within Ontario for  \\nwhich the person who appointed the Director is responsible for the administration and enforcement.  1997, c.  44, s.  2. \\nPowers and duties  \\n(4)  A Director appointed under subsection (1) or (2) shall exercise the powers and perform the duties that are conferred or \\nimposed on the Director by or under this Act.  1997, c.  44, s.  2. \\\\n Document URI: 4f19e405-3a63-430f-9415-7a110029631d\\\\nPassage: 21  47. providing for the minimum and maximum percentages of milk -fat, and the minimum percentage of milk solids, other \\nthan milk -fat, in any fluid milk product;  \\n 48. regulating and prohibiting the addition to or removal from milk, cream or fluid milk products of any substance, and \\nregulating and prohibiting the marketing of milk, cream or fluid milk products to which the substance has been added \\nor from which the substance has been removed;  \\n 49. prescribing the types and sizes of containers that shall be used for fluid milk products;  \\n 50. respecting the advertising in respect of and the labelling of containers for fluid milk products, or any class of fluid milk \\nproducts;  \\n 51. regulating retail or wholesale deliveries of fluid milk products, or any class of fluid milk products, by distributors;  \\n 52. prohibiting retail or wholesale deliveries of fluid milk products, or any class of fluid milk products, by distributors on \\nany day or days;  \\n 53. establishing classes of reconstituted milk, providing for the issue, suspension and revocation of permits for the \\nmanufacture and sale of any class of reconstituted milk, and prescribing the fees payable for such permits and the \\nrecords and returns to be made by the holders of such permits;  \\n 54. prescribing the standards of quality for and the composition of any class of reconstituted milk;  \\n 55. governing the advertising and the labelling of containers for any class of reconstituted milk;  \\n 56. prescribing the books, records and documents to be kept by distributors and operators of plants and the period for \\nwhich such books, records and documents shall be kept, and providing for the inspection of such books, records and \\ndocuments;  \\n 57. providing for the issue to producers of statements by distributors and operators of plants;  \\n 58. providing for sanitary standards and requirements for buildings and premises in which milk products, or any class \\nthereof, are manufactured, stored, graded or packed;  \\n 59. prohibiting the buying or selling of and the trafficking in milk or cream, or any class thereof, by transporters;  \\n 60. requiring producers, transporters, processors and distributors to furnish to the Commission or Director such \\ninformation or returns as the Commission or Director determines;  \\n 61. providing for the detention and disposal of any milk, cream, milk product, fluid milk product or reconstituted milk \\nproduced, processed or marketed in violation of this Act or the regulations;  \\n 62. establishing classes of field -persons, and prescribing the powers and duties of field -persons or any class thereof;  \\n 63. prescribing forms and providing for their use;  \\n 64. exempting from this Act or the regulations, or any part thereof, any plant or class of plants, any person or class of \\npersons, or any milk product or any class, variety or grade of milk product;  \\n 65. designating milk as Grade A milk, industrial milk or reconstituted milk;  \\n 66. regulating the inspecting, grading, packaging, packing, marking and labelling of milk products, providing for the \\nestablishment of grades, grade names and marks and specifications of containers and packages of milk products and \\nthe issue of inspection and grading certificates, and prescribing the fees payable upon inspection and grading of milk \\nproducts;  \\n 67. regulating and prohibiting the placing of any substance or foreign object in a milk product, the exposure of a milk \\nproduct to any substance and the producing, processing and marketing of such milk product or a milk product that \\ndoes not comply with the standards, grades, grade names or marks or specifications of containers and packages \\nestablished by the regulations;  \\n 67.1 providing for the establishment, payment and collection of fees, administrative penalties, costs, interest charges or \\nother charges related to the administration or enforcement of this Act or the regulations in respect of the quality of \\nmilk or cream, in addition to the Commission’s other powers to prescribe fees or penalties by regulation;  \\n 67.2 providing for the terms, conditions, methods and time of payment of the fees, penalties, costs or charges established \\nunder paragraph 67.1;  \\\\n Document URI: 616d832d-d570-49ab-93aa-39a70a798252\\\\nPassage: 227  (a) stop the vehicle not less than 5 metres from the nearest rail of the railway;  \\n (b) look in both directions along the railway track;  \\n (c) open a door of the vehicle and listen to determine if any train is approaching;  and \\n (d) when it is safe to do so, cross the railway track.  \\n (e) REPEALED : 2017, c. 2, Sched. 17, s. 13 (1) . \\n1997, c.  12, s.  13; 2017, c. 2, Sched. 17, s. 13 (1) ; 2020, c. 34, Sched. 23, s. 7 (1 7). \\nSchool buses required to stop  \\n(2)  The driver of a school bus, within the meaning of section 175, upon approaching on a highway a railway crossing, \\nwhether or not it is protected by gates or railway crossing signal lights, unless otherwise directed by a flagman, shall,  \\n (a) stop the school bus not less than 5 metres from the nearest rail of the railway;  \\n (b) look in both directions along the railway track;  \\n (c) open a door of the school bus and listen to determine if any train is approaching;  and \\n (d) when it is safe to do so, cross the railway track.  \\n (e) REPEALED : 2017, c. 2, Sched. 17, s. 13 (2).  \\n1997, c.  12, s.  13; 2017, c. 2, Sched. 17, s. 13 (2) . \\nPassenger transportation vehicle or school bus with manual transmission  \\n(3)  The driver of a bus with manual transmission or of a school bus with manual transmission who is required by subsection \\n(1) or (2) to stop at a railway crossing shall, when it is safe to do so,  \\n (a) cross the railway track in a gear that will not need to be changed while crossing the track; and  \\n (b) not change gears while crossing the railway track. 2017, c. 2, Sched. 17, s. 13 (3) ; 2020, c. 34, Sched. 23, s. 7 (18) . \\nRegulations  \\n(4)  The Lieutenant Governor in Council may make regulations exempting classes of persons or vehicles from the application \\nof this section. 2020, c. 34, Sched. 23, s. 7 (19).  \\nSection Amendments with date in force (d/m/y)  \\n1997, c.  12, s.  13 - 03/07/1997  \\n2002, c. 18, Sched. P, s. 31  - no effect - see Table of Public Statute Provisions Repealed Under Section 10.1 of the Legislation Act, 2006  - \\n31/12/2012  \\n2017, c. 2, Sched. 17, s. 13 (1 -3) - 22/03 /2017  \\n2020, c. 34, Sched. 23, s. 7 (17 -19) - 01/07/2021  \\nSchool buses  \\n175 (1)  In this section,  \\n“children” means,  \\n (a) persons under the age of eighteen, and  \\n (b) in the case where a school bus is being operated by or under a contract with a school board or other authority in charge \\nof a school for the transportation of children to or from school, includes students of the school; (“enfants”)  \\n“developmental disability” means a condition of mental impairment, present or occurring during a person’s formative years, \\nthat is associated with limitations in adaptive behaviour; (“déficience intellectuelle”)  \\n“school” does not include a post -secondary school educational institution; (“école”)  \\n“school bus” means a bus that,  \\n (a) is painted chrome yellow,  \\n (b) displays on the front and rear thereof the words “school bus”, and  \\\\n Document URI: 5b9addf3-6acb-4b08-9f12-68079af7f596\\\\n',\n",
       " 'documents': [Document(metadata={'doc_id': '4f19e405-3a63-430f-9415-7a110029631d', 'id': '0796f8ed-ff5b-488e-b6af-fe588a8f0922'}, page_content='3 “plant” means a cream transfer station, a milk transfer station or premises in which milk or cream or milk products are \\nprocessed; (“usine”)  \\n“processing” means heating, pasteurizing, evaporating, drying, churning, freezing, packaging, packing, separating into \\ncomponent parts, combining with other substances by any process or otherwise treating milk or cream or milk products in \\nthe manufacture or preparation of milk products or fluid milk products; (“transformation”)  \\n“processor” means a person engaged in the processing of milk products or fluid milk products; (“préposé à la \\ntransformation”)  \\n“producer” means a producer of milk, cream or cheese; (“producteur”)  \\n“reconstituted milk” means milk designated as reconstituted milk in the regulations; (“lait reconstitué”)  \\n“regulated product” means milk, cream or cheese, or any combination thereof, in respect of which a plan is in force; (“produit \\nréglementé”)  \\n“regulations” means the regulations made under this Act; (“règlements”)  \\n“transporter” means a person transporting milk or cream; (“transporteur”)  \\n“Tribunal” means the Agriculture, Food and Rural Affairs Appeal Tribunal continued under the Ministry of Agriculture, \\nFood and Rural Affairs Act . (“Tribunal”)   R.S.O. 1990, c.  M.12, s.  1; 1997, c.  44, s.  1; 2006, c.  19, Sched.  A, s.  15 (1); \\n2009, c.  33, Sched.  1, s. 20 (1). \\nSection Amendments with date in force (d/m/y)  \\n1997, c. 44, s. 1 (1, 2)  - 18/12/1997  \\n2001, c. 20, s. 60  - see Table of Public Statute Provisions Repealed Under Section 10.1 of the Legislation Act, 2006  \\n2006, c. 19, Sched. A, s. 15 (1)  - 22/06/2006  \\n2009, c. 33, Sched. 1, s. 20 (1)  - 15/12/2009  \\nPurpose of Act  \\n2 The purpose and intent of this Act is,  \\n (a) to stimulate, increase and improve the producing of milk within Ontario;  \\n (b) to provide for the control and regulation in any or all respects of the producing or marketing within Ontario of milk, \\ncream or cheese, or any combination thereof, including the prohibition of such producing or marketing in whole or in \\npart; and  \\n (c) to provide for the control and regulation in any or all respects of the quality of milk, milk products and fluid milk \\nproducts within Ontario.  R.S.O. 1990, c.  M.12, s.  2. \\nADMINISTRATION AND ENFORCEMENT  \\nDirector  \\n2.1  (1)  The Minister may appoint a Director for the purposes of the provisions of this Act and the regulations for which the \\nadministration and enforcement are not delegated to a designated administrative authority.  1997, c.  44, s.  2. \\nDirector appointed by administrative authority  \\n(2)  If the administration and enforcement of any provisions of this Act and the regulations are delegated to a designated \\nadministrative authority, the authority may appoint a Director for the purposes of those provisions.  1997, c.  44, s.  2. \\nResponsibility of Director  \\n(3)  A Director appointed under subsection (1) or (2) shall carry out the administration and enforcement of those provisions \\nof this Act and the regulations with respect to the quality of milk, milk products and fluid milk products within Ontario for  \\nwhich the person who appointed the Director is responsible for the administration and enforcement.  1997, c.  44, s.  2. \\nPowers and duties  \\n(4)  A Director appointed under subsection (1) or (2) shall exercise the powers and perform the duties that are conferred or \\nimposed on the Director by or under this Act.  1997, c.  44, s.  2. '),\n",
       "  Document(metadata={'doc_id': '616d832d-d570-49ab-93aa-39a70a798252', 'id': 'e71d337b-7319-4726-a6be-ac56c1d88800'}, page_content='21  47. providing for the minimum and maximum percentages of milk -fat, and the minimum percentage of milk solids, other \\nthan milk -fat, in any fluid milk product;  \\n 48. regulating and prohibiting the addition to or removal from milk, cream or fluid milk products of any substance, and \\nregulating and prohibiting the marketing of milk, cream or fluid milk products to which the substance has been added \\nor from which the substance has been removed;  \\n 49. prescribing the types and sizes of containers that shall be used for fluid milk products;  \\n 50. respecting the advertising in respect of and the labelling of containers for fluid milk products, or any class of fluid milk \\nproducts;  \\n 51. regulating retail or wholesale deliveries of fluid milk products, or any class of fluid milk products, by distributors;  \\n 52. prohibiting retail or wholesale deliveries of fluid milk products, or any class of fluid milk products, by distributors on \\nany day or days;  \\n 53. establishing classes of reconstituted milk, providing for the issue, suspension and revocation of permits for the \\nmanufacture and sale of any class of reconstituted milk, and prescribing the fees payable for such permits and the \\nrecords and returns to be made by the holders of such permits;  \\n 54. prescribing the standards of quality for and the composition of any class of reconstituted milk;  \\n 55. governing the advertising and the labelling of containers for any class of reconstituted milk;  \\n 56. prescribing the books, records and documents to be kept by distributors and operators of plants and the period for \\nwhich such books, records and documents shall be kept, and providing for the inspection of such books, records and \\ndocuments;  \\n 57. providing for the issue to producers of statements by distributors and operators of plants;  \\n 58. providing for sanitary standards and requirements for buildings and premises in which milk products, or any class \\nthereof, are manufactured, stored, graded or packed;  \\n 59. prohibiting the buying or selling of and the trafficking in milk or cream, or any class thereof, by transporters;  \\n 60. requiring producers, transporters, processors and distributors to furnish to the Commission or Director such \\ninformation or returns as the Commission or Director determines;  \\n 61. providing for the detention and disposal of any milk, cream, milk product, fluid milk product or reconstituted milk \\nproduced, processed or marketed in violation of this Act or the regulations;  \\n 62. establishing classes of field -persons, and prescribing the powers and duties of field -persons or any class thereof;  \\n 63. prescribing forms and providing for their use;  \\n 64. exempting from this Act or the regulations, or any part thereof, any plant or class of plants, any person or class of \\npersons, or any milk product or any class, variety or grade of milk product;  \\n 65. designating milk as Grade A milk, industrial milk or reconstituted milk;  \\n 66. regulating the inspecting, grading, packaging, packing, marking and labelling of milk products, providing for the \\nestablishment of grades, grade names and marks and specifications of containers and packages of milk products and \\nthe issue of inspection and grading certificates, and prescribing the fees payable upon inspection and grading of milk \\nproducts;  \\n 67. regulating and prohibiting the placing of any substance or foreign object in a milk product, the exposure of a milk \\nproduct to any substance and the producing, processing and marketing of such milk product or a milk product that \\ndoes not comply with the standards, grades, grade names or marks or specifications of containers and packages \\nestablished by the regulations;  \\n 67.1 providing for the establishment, payment and collection of fees, administrative penalties, costs, interest charges or \\nother charges related to the administration or enforcement of this Act or the regulations in respect of the quality of \\nmilk or cream, in addition to the Commission’s other powers to prescribe fees or penalties by regulation;  \\n 67.2 providing for the terms, conditions, methods and time of payment of the fees, penalties, costs or charges established \\nunder paragraph 67.1;  '),\n",
       "  Document(metadata={'doc_id': '5b9addf3-6acb-4b08-9f12-68079af7f596', 'id': '4273b0ac-0d42-4f00-9b4f-bcfcdc787e10'}, page_content='227  (a) stop the vehicle not less than 5 metres from the nearest rail of the railway;  \\n (b) look in both directions along the railway track;  \\n (c) open a door of the vehicle and listen to determine if any train is approaching;  and \\n (d) when it is safe to do so, cross the railway track.  \\n (e) REPEALED : 2017, c. 2, Sched. 17, s. 13 (1) . \\n1997, c.  12, s.  13; 2017, c. 2, Sched. 17, s. 13 (1) ; 2020, c. 34, Sched. 23, s. 7 (1 7). \\nSchool buses required to stop  \\n(2)  The driver of a school bus, within the meaning of section 175, upon approaching on a highway a railway crossing, \\nwhether or not it is protected by gates or railway crossing signal lights, unless otherwise directed by a flagman, shall,  \\n (a) stop the school bus not less than 5 metres from the nearest rail of the railway;  \\n (b) look in both directions along the railway track;  \\n (c) open a door of the school bus and listen to determine if any train is approaching;  and \\n (d) when it is safe to do so, cross the railway track.  \\n (e) REPEALED : 2017, c. 2, Sched. 17, s. 13 (2).  \\n1997, c.  12, s.  13; 2017, c. 2, Sched. 17, s. 13 (2) . \\nPassenger transportation vehicle or school bus with manual transmission  \\n(3)  The driver of a bus with manual transmission or of a school bus with manual transmission who is required by subsection \\n(1) or (2) to stop at a railway crossing shall, when it is safe to do so,  \\n (a) cross the railway track in a gear that will not need to be changed while crossing the track; and  \\n (b) not change gears while crossing the railway track. 2017, c. 2, Sched. 17, s. 13 (3) ; 2020, c. 34, Sched. 23, s. 7 (18) . \\nRegulations  \\n(4)  The Lieutenant Governor in Council may make regulations exempting classes of persons or vehicles from the application \\nof this section. 2020, c. 34, Sched. 23, s. 7 (19).  \\nSection Amendments with date in force (d/m/y)  \\n1997, c.  12, s.  13 - 03/07/1997  \\n2002, c. 18, Sched. P, s. 31  - no effect - see Table of Public Statute Provisions Repealed Under Section 10.1 of the Legislation Act, 2006  - \\n31/12/2012  \\n2017, c. 2, Sched. 17, s. 13 (1 -3) - 22/03 /2017  \\n2020, c. 34, Sched. 23, s. 7 (17 -19) - 01/07/2021  \\nSchool buses  \\n175 (1)  In this section,  \\n“children” means,  \\n (a) persons under the age of eighteen, and  \\n (b) in the case where a school bus is being operated by or under a contract with a school board or other authority in charge \\nof a school for the transportation of children to or from school, includes students of the school; (“enfants”)  \\n“developmental disability” means a condition of mental impairment, present or occurring during a person’s formative years, \\nthat is associated with limitations in adaptive behaviour; (“déficience intellectuelle”)  \\n“school” does not include a post -secondary school educational institution; (“école”)  \\n“school bus” means a bus that,  \\n (a) is painted chrome yellow,  \\n (b) displays on the front and rear thereof the words “school bus”, and  ')]}"
      ]
     },
     "execution_count": 13,
     "metadata": {},
     "output_type": "execute_result"
    }
   ],
   "source": [
    "workflow = StateGraph(state)\n",
    "workflow.add_node(\"retrieve\", retriever_node)\n",
    "workflow.add_edge(START, \"retrieve\")\n",
    "app = workflow.compile()\n",
    "app.invoke(input_example)"
   ]
  },
  {
   "cell_type": "markdown",
   "metadata": {},
   "source": [
    "This section builds a rag graph without history"
   ]
  },
  {
   "cell_type": "code",
   "execution_count": 14,
   "metadata": {},
   "outputs": [],
   "source": [
    "workflow = StateGraph(state)\n",
    "workflow.add_node(\"retrieve\", retriever_node)\n",
    "workflow.add_node(\"generate_w_context\", context_generation_node)\n",
    "workflow.add_edge(START, \"retrieve\")\n",
    "workflow.add_edge(\"retrieve\", \"generate_w_context\")\n",
    "workflow.add_edge(\"generate_w_context\", END)\n",
    "app = workflow.compile()\n",
    "result = app.invoke(input_example)"
   ]
  },
  {
   "cell_type": "code",
   "execution_count": 15,
   "metadata": {},
   "outputs": [
    {
     "data": {
      "text/plain": [
       "{'choices': [{'message': {'role': 'assistant',\n",
       "    'content': \"The provided context appears to be related to Ontario's milk regulation and transportation laws, but it does not specifically address shipping goat's milk by train.\",\n",
       "    'refusal': None,\n",
       "    'name': None,\n",
       "    'tool_calls': None,\n",
       "    'tool_call_id': None},\n",
       "   'index': 0,\n",
       "   'finish_reason': 'stop',\n",
       "   'logprobs': None}],\n",
       " 'usage': None,\n",
       " 'id': None,\n",
       " 'model': None,\n",
       " 'object': 'chat.completion',\n",
       " 'created': 1739568994,\n",
       " 'custom_outputs': {'message_history': [{'type': 'user',\n",
       "    'content': 'I want to ship milk using a train, but goats milk not cow milk'},\n",
       "   {'role': 'tool',\n",
       "    'content': 'Passage: 3 “plant” means a cream transfer station, a milk transfer station or premises in which milk or cream or milk products are \\nprocessed; (“usine”)  \\n“processing” means heating, pasteurizing, evaporating, drying, churning, freezing, packaging, packing, separating into \\ncomponent parts, combining with other substances by any process or otherwise treating milk or cream or milk products in \\nthe manufacture or preparation of milk products or fluid milk products; (“transformation”)  \\n“processor” means a person engaged in the processing of milk products or fluid milk products; (“préposé à la \\ntransformation”)  \\n“producer” means a producer of milk, cream or cheese; (“producteur”)  \\n“reconstituted milk” means milk designated as reconstituted milk in the regulations; (“lait reconstitué”)  \\n“regulated product” means milk, cream or cheese, or any combination thereof, in respect of which a plan is in force; (“produit \\nréglementé”)  \\n“regulations” means the regulations made under this Act; (“règlements”)  \\n“transporter” means a person transporting milk or cream; (“transporteur”)  \\n“Tribunal” means the Agriculture, Food and Rural Affairs Appeal Tribunal continued under the Ministry of Agriculture, \\nFood and Rural Affairs Act . (“Tribunal”)   R.S.O. 1990, c.  M.12, s.  1; 1997, c.  44, s.  1; 2006, c.  19, Sched.  A, s.  15 (1); \\n2009, c.  33, Sched.  1, s. 20 (1). \\nSection Amendments with date in force (d/m/y)  \\n1997, c. 44, s. 1 (1, 2)  - 18/12/1997  \\n2001, c. 20, s. 60  - see Table of Public Statute Provisions Repealed Under Section 10.1 of the Legislation Act, 2006  \\n2006, c. 19, Sched. A, s. 15 (1)  - 22/06/2006  \\n2009, c. 33, Sched. 1, s. 20 (1)  - 15/12/2009  \\nPurpose of Act  \\n2 The purpose and intent of this Act is,  \\n (a) to stimulate, increase and improve the producing of milk within Ontario;  \\n (b) to provide for the control and regulation in any or all respects of the producing or marketing within Ontario of milk, \\ncream or cheese, or any combination thereof, including the prohibition of such producing or marketing in whole or in \\npart; and  \\n (c) to provide for the control and regulation in any or all respects of the quality of milk, milk products and fluid milk \\nproducts within Ontario.  R.S.O. 1990, c.  M.12, s.  2. \\nADMINISTRATION AND ENFORCEMENT  \\nDirector  \\n2.1  (1)  The Minister may appoint a Director for the purposes of the provisions of this Act and the regulations for which the \\nadministration and enforcement are not delegated to a designated administrative authority.  1997, c.  44, s.  2. \\nDirector appointed by administrative authority  \\n(2)  If the administration and enforcement of any provisions of this Act and the regulations are delegated to a designated \\nadministrative authority, the authority may appoint a Director for the purposes of those provisions.  1997, c.  44, s.  2. \\nResponsibility of Director  \\n(3)  A Director appointed under subsection (1) or (2) shall carry out the administration and enforcement of those provisions \\nof this Act and the regulations with respect to the quality of milk, milk products and fluid milk products within Ontario for  \\nwhich the person who appointed the Director is responsible for the administration and enforcement.  1997, c.  44, s.  2. \\nPowers and duties  \\n(4)  A Director appointed under subsection (1) or (2) shall exercise the powers and perform the duties that are conferred or \\nimposed on the Director by or under this Act.  1997, c.  44, s.  2. \\\\n Document URI: 4f19e405-3a63-430f-9415-7a110029631d\\\\nPassage: 21  47. providing for the minimum and maximum percentages of milk -fat, and the minimum percentage of milk solids, other \\nthan milk -fat, in any fluid milk product;  \\n 48. regulating and prohibiting the addition to or removal from milk, cream or fluid milk products of any substance, and \\nregulating and prohibiting the marketing of milk, cream or fluid milk products to which the substance has been added \\nor from which the substance has been removed;  \\n 49. prescribing the types and sizes of containers that shall be used for fluid milk products;  \\n 50. respecting the advertising in respect of and the labelling of containers for fluid milk products, or any class of fluid milk \\nproducts;  \\n 51. regulating retail or wholesale deliveries of fluid milk products, or any class of fluid milk products, by distributors;  \\n 52. prohibiting retail or wholesale deliveries of fluid milk products, or any class of fluid milk products, by distributors on \\nany day or days;  \\n 53. establishing classes of reconstituted milk, providing for the issue, suspension and revocation of permits for the \\nmanufacture and sale of any class of reconstituted milk, and prescribing the fees payable for such permits and the \\nrecords and returns to be made by the holders of such permits;  \\n 54. prescribing the standards of quality for and the composition of any class of reconstituted milk;  \\n 55. governing the advertising and the labelling of containers for any class of reconstituted milk;  \\n 56. prescribing the books, records and documents to be kept by distributors and operators of plants and the period for \\nwhich such books, records and documents shall be kept, and providing for the inspection of such books, records and \\ndocuments;  \\n 57. providing for the issue to producers of statements by distributors and operators of plants;  \\n 58. providing for sanitary standards and requirements for buildings and premises in which milk products, or any class \\nthereof, are manufactured, stored, graded or packed;  \\n 59. prohibiting the buying or selling of and the trafficking in milk or cream, or any class thereof, by transporters;  \\n 60. requiring producers, transporters, processors and distributors to furnish to the Commission or Director such \\ninformation or returns as the Commission or Director determines;  \\n 61. providing for the detention and disposal of any milk, cream, milk product, fluid milk product or reconstituted milk \\nproduced, processed or marketed in violation of this Act or the regulations;  \\n 62. establishing classes of field -persons, and prescribing the powers and duties of field -persons or any class thereof;  \\n 63. prescribing forms and providing for their use;  \\n 64. exempting from this Act or the regulations, or any part thereof, any plant or class of plants, any person or class of \\npersons, or any milk product or any class, variety or grade of milk product;  \\n 65. designating milk as Grade A milk, industrial milk or reconstituted milk;  \\n 66. regulating the inspecting, grading, packaging, packing, marking and labelling of milk products, providing for the \\nestablishment of grades, grade names and marks and specifications of containers and packages of milk products and \\nthe issue of inspection and grading certificates, and prescribing the fees payable upon inspection and grading of milk \\nproducts;  \\n 67. regulating and prohibiting the placing of any substance or foreign object in a milk product, the exposure of a milk \\nproduct to any substance and the producing, processing and marketing of such milk product or a milk product that \\ndoes not comply with the standards, grades, grade names or marks or specifications of containers and packages \\nestablished by the regulations;  \\n 67.1 providing for the establishment, payment and collection of fees, administrative penalties, costs, interest charges or \\nother charges related to the administration or enforcement of this Act or the regulations in respect of the quality of \\nmilk or cream, in addition to the Commission’s other powers to prescribe fees or penalties by regulation;  \\n 67.2 providing for the terms, conditions, methods and time of payment of the fees, penalties, costs or charges established \\nunder paragraph 67.1;  \\\\n Document URI: 616d832d-d570-49ab-93aa-39a70a798252\\\\nPassage: 227  (a) stop the vehicle not less than 5 metres from the nearest rail of the railway;  \\n (b) look in both directions along the railway track;  \\n (c) open a door of the vehicle and listen to determine if any train is approaching;  and \\n (d) when it is safe to do so, cross the railway track.  \\n (e) REPEALED : 2017, c. 2, Sched. 17, s. 13 (1) . \\n1997, c.  12, s.  13; 2017, c. 2, Sched. 17, s. 13 (1) ; 2020, c. 34, Sched. 23, s. 7 (1 7). \\nSchool buses required to stop  \\n(2)  The driver of a school bus, within the meaning of section 175, upon approaching on a highway a railway crossing, \\nwhether or not it is protected by gates or railway crossing signal lights, unless otherwise directed by a flagman, shall,  \\n (a) stop the school bus not less than 5 metres from the nearest rail of the railway;  \\n (b) look in both directions along the railway track;  \\n (c) open a door of the school bus and listen to determine if any train is approaching;  and \\n (d) when it is safe to do so, cross the railway track.  \\n (e) REPEALED : 2017, c. 2, Sched. 17, s. 13 (2).  \\n1997, c.  12, s.  13; 2017, c. 2, Sched. 17, s. 13 (2) . \\nPassenger transportation vehicle or school bus with manual transmission  \\n(3)  The driver of a bus with manual transmission or of a school bus with manual transmission who is required by subsection \\n(1) or (2) to stop at a railway crossing shall, when it is safe to do so,  \\n (a) cross the railway track in a gear that will not need to be changed while crossing the track; and  \\n (b) not change gears while crossing the railway track. 2017, c. 2, Sched. 17, s. 13 (3) ; 2020, c. 34, Sched. 23, s. 7 (18) . \\nRegulations  \\n(4)  The Lieutenant Governor in Council may make regulations exempting classes of persons or vehicles from the application \\nof this section. 2020, c. 34, Sched. 23, s. 7 (19).  \\nSection Amendments with date in force (d/m/y)  \\n1997, c.  12, s.  13 - 03/07/1997  \\n2002, c. 18, Sched. P, s. 31  - no effect - see Table of Public Statute Provisions Repealed Under Section 10.1 of the Legislation Act, 2006  - \\n31/12/2012  \\n2017, c. 2, Sched. 17, s. 13 (1 -3) - 22/03 /2017  \\n2020, c. 34, Sched. 23, s. 7 (17 -19) - 01/07/2021  \\nSchool buses  \\n175 (1)  In this section,  \\n“children” means,  \\n (a) persons under the age of eighteen, and  \\n (b) in the case where a school bus is being operated by or under a contract with a school board or other authority in charge \\nof a school for the transportation of children to or from school, includes students of the school; (“enfants”)  \\n“developmental disability” means a condition of mental impairment, present or occurring during a person’s formative years, \\nthat is associated with limitations in adaptive behaviour; (“déficience intellectuelle”)  \\n“school” does not include a post -secondary school educational institution; (“école”)  \\n“school bus” means a bus that,  \\n (a) is painted chrome yellow,  \\n (b) displays on the front and rear thereof the words “school bus”, and  \\\\n Document URI: 5b9addf3-6acb-4b08-9f12-68079af7f596\\\\n'}],\n",
       "  'documents': [{'id': None,\n",
       "    'metadata': {'doc_id': '4f19e405-3a63-430f-9415-7a110029631d',\n",
       "     'id': '0796f8ed-ff5b-488e-b6af-fe588a8f0922'},\n",
       "    'page_content': '3 “plant” means a cream transfer station, a milk transfer station or premises in which milk or cream or milk products are \\nprocessed; (“usine”)  \\n“processing” means heating, pasteurizing, evaporating, drying, churning, freezing, packaging, packing, separating into \\ncomponent parts, combining with other substances by any process or otherwise treating milk or cream or milk products in \\nthe manufacture or preparation of milk products or fluid milk products; (“transformation”)  \\n“processor” means a person engaged in the processing of milk products or fluid milk products; (“préposé à la \\ntransformation”)  \\n“producer” means a producer of milk, cream or cheese; (“producteur”)  \\n“reconstituted milk” means milk designated as reconstituted milk in the regulations; (“lait reconstitué”)  \\n“regulated product” means milk, cream or cheese, or any combination thereof, in respect of which a plan is in force; (“produit \\nréglementé”)  \\n“regulations” means the regulations made under this Act; (“règlements”)  \\n“transporter” means a person transporting milk or cream; (“transporteur”)  \\n“Tribunal” means the Agriculture, Food and Rural Affairs Appeal Tribunal continued under the Ministry of Agriculture, \\nFood and Rural Affairs Act . (“Tribunal”)   R.S.O. 1990, c.  M.12, s.  1; 1997, c.  44, s.  1; 2006, c.  19, Sched.  A, s.  15 (1); \\n2009, c.  33, Sched.  1, s. 20 (1). \\nSection Amendments with date in force (d/m/y)  \\n1997, c. 44, s. 1 (1, 2)  - 18/12/1997  \\n2001, c. 20, s. 60  - see Table of Public Statute Provisions Repealed Under Section 10.1 of the Legislation Act, 2006  \\n2006, c. 19, Sched. A, s. 15 (1)  - 22/06/2006  \\n2009, c. 33, Sched. 1, s. 20 (1)  - 15/12/2009  \\nPurpose of Act  \\n2 The purpose and intent of this Act is,  \\n (a) to stimulate, increase and improve the producing of milk within Ontario;  \\n (b) to provide for the control and regulation in any or all respects of the producing or marketing within Ontario of milk, \\ncream or cheese, or any combination thereof, including the prohibition of such producing or marketing in whole or in \\npart; and  \\n (c) to provide for the control and regulation in any or all respects of the quality of milk, milk products and fluid milk \\nproducts within Ontario.  R.S.O. 1990, c.  M.12, s.  2. \\nADMINISTRATION AND ENFORCEMENT  \\nDirector  \\n2.1  (1)  The Minister may appoint a Director for the purposes of the provisions of this Act and the regulations for which the \\nadministration and enforcement are not delegated to a designated administrative authority.  1997, c.  44, s.  2. \\nDirector appointed by administrative authority  \\n(2)  If the administration and enforcement of any provisions of this Act and the regulations are delegated to a designated \\nadministrative authority, the authority may appoint a Director for the purposes of those provisions.  1997, c.  44, s.  2. \\nResponsibility of Director  \\n(3)  A Director appointed under subsection (1) or (2) shall carry out the administration and enforcement of those provisions \\nof this Act and the regulations with respect to the quality of milk, milk products and fluid milk products within Ontario for  \\nwhich the person who appointed the Director is responsible for the administration and enforcement.  1997, c.  44, s.  2. \\nPowers and duties  \\n(4)  A Director appointed under subsection (1) or (2) shall exercise the powers and perform the duties that are conferred or \\nimposed on the Director by or under this Act.  1997, c.  44, s.  2. ',\n",
       "    'type': 'Document'},\n",
       "   {'id': None,\n",
       "    'metadata': {'doc_id': '616d832d-d570-49ab-93aa-39a70a798252',\n",
       "     'id': 'e71d337b-7319-4726-a6be-ac56c1d88800'},\n",
       "    'page_content': '21  47. providing for the minimum and maximum percentages of milk -fat, and the minimum percentage of milk solids, other \\nthan milk -fat, in any fluid milk product;  \\n 48. regulating and prohibiting the addition to or removal from milk, cream or fluid milk products of any substance, and \\nregulating and prohibiting the marketing of milk, cream or fluid milk products to which the substance has been added \\nor from which the substance has been removed;  \\n 49. prescribing the types and sizes of containers that shall be used for fluid milk products;  \\n 50. respecting the advertising in respect of and the labelling of containers for fluid milk products, or any class of fluid milk \\nproducts;  \\n 51. regulating retail or wholesale deliveries of fluid milk products, or any class of fluid milk products, by distributors;  \\n 52. prohibiting retail or wholesale deliveries of fluid milk products, or any class of fluid milk products, by distributors on \\nany day or days;  \\n 53. establishing classes of reconstituted milk, providing for the issue, suspension and revocation of permits for the \\nmanufacture and sale of any class of reconstituted milk, and prescribing the fees payable for such permits and the \\nrecords and returns to be made by the holders of such permits;  \\n 54. prescribing the standards of quality for and the composition of any class of reconstituted milk;  \\n 55. governing the advertising and the labelling of containers for any class of reconstituted milk;  \\n 56. prescribing the books, records and documents to be kept by distributors and operators of plants and the period for \\nwhich such books, records and documents shall be kept, and providing for the inspection of such books, records and \\ndocuments;  \\n 57. providing for the issue to producers of statements by distributors and operators of plants;  \\n 58. providing for sanitary standards and requirements for buildings and premises in which milk products, or any class \\nthereof, are manufactured, stored, graded or packed;  \\n 59. prohibiting the buying or selling of and the trafficking in milk or cream, or any class thereof, by transporters;  \\n 60. requiring producers, transporters, processors and distributors to furnish to the Commission or Director such \\ninformation or returns as the Commission or Director determines;  \\n 61. providing for the detention and disposal of any milk, cream, milk product, fluid milk product or reconstituted milk \\nproduced, processed or marketed in violation of this Act or the regulations;  \\n 62. establishing classes of field -persons, and prescribing the powers and duties of field -persons or any class thereof;  \\n 63. prescribing forms and providing for their use;  \\n 64. exempting from this Act or the regulations, or any part thereof, any plant or class of plants, any person or class of \\npersons, or any milk product or any class, variety or grade of milk product;  \\n 65. designating milk as Grade A milk, industrial milk or reconstituted milk;  \\n 66. regulating the inspecting, grading, packaging, packing, marking and labelling of milk products, providing for the \\nestablishment of grades, grade names and marks and specifications of containers and packages of milk products and \\nthe issue of inspection and grading certificates, and prescribing the fees payable upon inspection and grading of milk \\nproducts;  \\n 67. regulating and prohibiting the placing of any substance or foreign object in a milk product, the exposure of a milk \\nproduct to any substance and the producing, processing and marketing of such milk product or a milk product that \\ndoes not comply with the standards, grades, grade names or marks or specifications of containers and packages \\nestablished by the regulations;  \\n 67.1 providing for the establishment, payment and collection of fees, administrative penalties, costs, interest charges or \\nother charges related to the administration or enforcement of this Act or the regulations in respect of the quality of \\nmilk or cream, in addition to the Commission’s other powers to prescribe fees or penalties by regulation;  \\n 67.2 providing for the terms, conditions, methods and time of payment of the fees, penalties, costs or charges established \\nunder paragraph 67.1;  ',\n",
       "    'type': 'Document'},\n",
       "   {'id': None,\n",
       "    'metadata': {'doc_id': '5b9addf3-6acb-4b08-9f12-68079af7f596',\n",
       "     'id': '4273b0ac-0d42-4f00-9b4f-bcfcdc787e10'},\n",
       "    'page_content': '227  (a) stop the vehicle not less than 5 metres from the nearest rail of the railway;  \\n (b) look in both directions along the railway track;  \\n (c) open a door of the vehicle and listen to determine if any train is approaching;  and \\n (d) when it is safe to do so, cross the railway track.  \\n (e) REPEALED : 2017, c. 2, Sched. 17, s. 13 (1) . \\n1997, c.  12, s.  13; 2017, c. 2, Sched. 17, s. 13 (1) ; 2020, c. 34, Sched. 23, s. 7 (1 7). \\nSchool buses required to stop  \\n(2)  The driver of a school bus, within the meaning of section 175, upon approaching on a highway a railway crossing, \\nwhether or not it is protected by gates or railway crossing signal lights, unless otherwise directed by a flagman, shall,  \\n (a) stop the school bus not less than 5 metres from the nearest rail of the railway;  \\n (b) look in both directions along the railway track;  \\n (c) open a door of the school bus and listen to determine if any train is approaching;  and \\n (d) when it is safe to do so, cross the railway track.  \\n (e) REPEALED : 2017, c. 2, Sched. 17, s. 13 (2).  \\n1997, c.  12, s.  13; 2017, c. 2, Sched. 17, s. 13 (2) . \\nPassenger transportation vehicle or school bus with manual transmission  \\n(3)  The driver of a bus with manual transmission or of a school bus with manual transmission who is required by subsection \\n(1) or (2) to stop at a railway crossing shall, when it is safe to do so,  \\n (a) cross the railway track in a gear that will not need to be changed while crossing the track; and  \\n (b) not change gears while crossing the railway track. 2017, c. 2, Sched. 17, s. 13 (3) ; 2020, c. 34, Sched. 23, s. 7 (18) . \\nRegulations  \\n(4)  The Lieutenant Governor in Council may make regulations exempting classes of persons or vehicles from the application \\nof this section. 2020, c. 34, Sched. 23, s. 7 (19).  \\nSection Amendments with date in force (d/m/y)  \\n1997, c.  12, s.  13 - 03/07/1997  \\n2002, c. 18, Sched. P, s. 31  - no effect - see Table of Public Statute Provisions Repealed Under Section 10.1 of the Legislation Act, 2006  - \\n31/12/2012  \\n2017, c. 2, Sched. 17, s. 13 (1 -3) - 22/03 /2017  \\n2020, c. 34, Sched. 23, s. 7 (17 -19) - 01/07/2021  \\nSchool buses  \\n175 (1)  In this section,  \\n“children” means,  \\n (a) persons under the age of eighteen, and  \\n (b) in the case where a school bus is being operated by or under a contract with a school board or other authority in charge \\nof a school for the transportation of children to or from school, includes students of the school; (“enfants”)  \\n“developmental disability” means a condition of mental impairment, present or occurring during a person’s formative years, \\nthat is associated with limitations in adaptive behaviour; (“déficience intellectuelle”)  \\n“school” does not include a post -secondary school educational institution; (“école”)  \\n“school bus” means a bus that,  \\n (a) is painted chrome yellow,  \\n (b) displays on the front and rear thereof the words “school bus”, and  ',\n",
       "    'type': 'Document'}]}}"
      ]
     },
     "execution_count": 15,
     "metadata": {},
     "output_type": "execute_result"
    }
   ],
   "source": [
    "from src.utils import graph_state_to_chat_type\n",
    "from langchain_core.runnables import RunnableLambda\n",
    "\n",
    "chain = app | RunnableLambda(graph_state_to_chat_type)\n",
    "chain.invoke(input_example)"
   ]
  }
 ],
 "metadata": {
  "kernelspec": {
   "display_name": "Python 3",
   "language": "python",
   "name": "python3"
  },
  "language_info": {
   "codemirror_mode": {
    "name": "ipython",
    "version": 3
   },
   "file_extension": ".py",
   "mimetype": "text/x-python",
   "name": "python",
   "nbconvert_exporter": "python",
   "pygments_lexer": "ipython3",
   "version": "3.12.6"
  }
 },
 "nbformat": 4,
 "nbformat_minor": 2
}
